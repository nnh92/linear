{
  "nbformat": 4,
  "nbformat_minor": 0,
  "metadata": {
    "colab": {
      "name": "Linear regress.ipynb",
      "provenance": [],
      "collapsed_sections": [],
      "authorship_tag": "ABX9TyP2csfOiEMCgQrCfoLGLeIz",
      "include_colab_link": true
    },
    "kernelspec": {
      "name": "python3",
      "display_name": "Python 3"
    },
    "accelerator": "GPU"
  },
  "cells": [
    {
      "cell_type": "markdown",
      "metadata": {
        "id": "view-in-github",
        "colab_type": "text"
      },
      "source": [
        "<a href=\"https://colab.research.google.com/github/nnh92/linear/blob/main/Linear_regress.ipynb\" target=\"_parent\"><img src=\"https://colab.research.google.com/assets/colab-badge.svg\" alt=\"Open In Colab\"/></a>"
      ]
    },
    {
      "cell_type": "code",
      "metadata": {
        "id": "eWZ2AfqvFYHV"
      },
      "source": [
        "import numpy as np\n",
        "import pandas as pd\n",
        "import matplotlib.pyplot as plt\n",
        "\n",
        "data = pd.read_csv('data_linear.cvs').values\n",
        "\n",
        "N = data.shape[0]\n",
        "x = data[:,0].reshape(-1,1)\n",
        "y = data[:,1].reshape(-1,1)\n",
        "plt.scatter(x,y)\n",
        "plt.xlabel('met vuong')\n",
        "plt.ylabel('gia')\n",
        "\n",
        "x = np.hstack((np.ones((N,1)),x))\n",
        "\n",
        "w = np.array([0.,1.]).reshape(-1,1)\n",
        "numOfIteration = 100\n",
        "cost = np.zeros((numOfIteration,1))\n",
        "learning_rate = 0.0000001\n",
        "for i in range(1,numOfIteration):\n",
        "  r = np.dot(x,w) - y\n",
        "  cost[i] = 0.5*np.sum(r*r)\n",
        "  w[0] -= learning_rate*np.sum(r)\n",
        "  w[1] -= learning_rate*np.sum(np.multiply(r,x[:,1].reshape(-1,1)))\n",
        "  print(cost[i])\n",
        "predict = np.dot(x,w)\n",
        "plt.plot((x[0][1],x[N-1][1]),(predict[0],predict[N-1]),'r')\n",
        "plt.show()\n",
        "\n",
        "x1 = 50\n",
        "y1 = w[0] + w[1]*x1\n",
        "print('Gia nha cho 50m la: ',y1)"
      ],
      "execution_count": null,
      "outputs": []
    },
    {
      "cell_type": "code",
      "metadata": {
        "id": "adyQlNLcSfOQ"
      },
      "source": [
        "!wget https://github.com/nttuan8/DL_Tutorial/blob/master/L1/data_linear.csv"
      ],
      "execution_count": null,
      "outputs": []
    }
  ]
}
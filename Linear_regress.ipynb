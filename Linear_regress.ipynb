{
  "nbformat": 4,
  "nbformat_minor": 0,
  "metadata": {
    "colab": {
      "name": "Linear regress.ipynb",
      "provenance": [],
      "collapsed_sections": [],
      "authorship_tag": "ABX9TyO9fHVjkTAIMmfARQ3aYIt6",
      "include_colab_link": true
    },
    "kernelspec": {
      "name": "python3",
      "display_name": "Python 3"
    },
    "accelerator": "GPU"
  },
  "cells": [
    {
      "cell_type": "markdown",
      "metadata": {
        "id": "view-in-github",
        "colab_type": "text"
      },
      "source": [
        "<a href=\"https://colab.research.google.com/github/nnh92/linear/blob/main/Linear_regress.ipynb\" target=\"_parent\"><img src=\"https://colab.research.google.com/assets/colab-badge.svg\" alt=\"Open In Colab\"/></a>"
      ]
    },
    {
      "cell_type": "code",
      "metadata": {
        "id": "eWZ2AfqvFYHV",
        "colab": {
          "base_uri": "https://localhost:8080/",
          "height": 1000
        },
        "outputId": "4725ae3e-9e51-427d-f3ac-e81f33bbfa2d"
      },
      "source": [
        "import numpy as np\n",
        "import pandas as pd\n",
        "import matplotlib.pyplot as plt\n",
        "\n",
        "data = pd.read_csv('https://raw.githubusercontent.com/nnh92/linear/main/Liner_data.csv').values\n",
        "\n",
        "N = data.shape[0]\n",
        "x = data[:,0].reshape(-1,1)\n",
        "y = data[:,1].reshape(-1,1)\n",
        "plt.scatter(x,y)\n",
        "plt.xlabel('met vuong')\n",
        "plt.ylabel('gia')\n",
        "\n",
        "x = np.hstack((np.ones((N,1)),x))\n",
        "\n",
        "w = np.array([0.,1.]).reshape(-1,1)\n",
        "numOfIteration = 100\n",
        "cost = np.zeros((numOfIteration,1))\n",
        "learning_rate = 0.0000001\n",
        "for i in range(1,numOfIteration):\n",
        "  r = np.dot(x,w) - y\n",
        "  cost[i] = 0.5*np.sum(r*r)\n",
        "  w[0] -= learning_rate*np.sum(r)\n",
        "  w[1] -= learning_rate*np.sum(np.multiply(r,x[:,1].reshape(-1,1)))\n",
        "  print(cost[i])\n",
        "predict = np.dot(x,w)\n",
        "plt.plot((x[0][1],x[N-1][1]),(predict[0],predict[N-1]),'r')\n",
        "plt.show()\n",
        "\n",
        "x1 = 50\n",
        "y1 = w[0] + w[1]*x1\n",
        "print('Gia nha cho 50m la: ',y1)"
      ],
      "execution_count": 1,
      "outputs": [
        {
          "output_type": "stream",
          "text": [
            "[13929872.64455245]\n",
            "[13543022.87475353]\n",
            "[13166919.31185742]\n",
            "[12801263.43956187]\n",
            "[12445765.03397733]\n",
            "[12100141.93327402]\n",
            "[11764119.81372791]\n",
            "[11437431.97198784]\n",
            "[11119819.11339104]\n",
            "[10811029.14615896]\n",
            "[10510816.98131002]\n",
            "[10218944.33813065]\n",
            "[9935179.55505006]\n",
            "[9659297.40576858]\n",
            "[9391078.9204939]\n",
            "[9130311.212143]\n",
            "[8876787.30737203]\n",
            "[8630305.9823]\n",
            "[8390671.60279581]\n",
            "[8157693.96920193]\n",
            "[7931188.16537145]\n",
            "[7710974.41189873]\n",
            "[7496877.92342712]\n",
            "[7288728.76992039]\n",
            "[7086361.74178803]\n",
            "[6889616.21875709]\n",
            "[6698336.04238661]\n",
            "[6512369.39212351]\n",
            "[6331568.6648014]\n",
            "[6155790.35748682]\n",
            "[5984894.95357986]\n",
            "[5818746.81207873]\n",
            "[5657214.05992051]\n",
            "[5500168.48731242]\n",
            "[5347485.44597075]\n",
            "[5199043.75018653]\n",
            "[5054725.58063952]\n",
            "[4914416.39088411]\n",
            "[4778004.81643291]\n",
            "[4645382.58636586]\n",
            "[4516444.43739485]\n",
            "[4391088.03031535]\n",
            "[4269213.86877904]\n",
            "[4150725.2203228]\n",
            "[4035528.03959134]\n",
            "[3923530.89369276]\n",
            "[3814644.88962751]\n",
            "[3708783.60373333]\n",
            "[3605863.01309013]\n",
            "[3505801.42883037]\n",
            "[3408519.43130193]\n",
            "[3313939.80703215]\n",
            "[3221987.48744291]\n",
            "[3132589.48926809]\n",
            "[3045674.8566262]\n",
            "[2961174.60470215]\n",
            "[2879021.66499348]\n",
            "[2799150.83207757]\n",
            "[2721498.71185756]\n",
            "[2646003.67124601]\n",
            "[2572605.78924621]\n",
            "[2501246.80939244]\n",
            "[2431870.09351138]\n",
            "[2364420.57676789]\n",
            "[2298844.7239597]\n",
            "[2235090.48702607]\n",
            "[2173107.26373685]\n",
            "[2112845.85752906]\n",
            "[2054258.4384593]\n",
            "[1997298.50524062]\n",
            "[1941920.84833421]\n",
            "[1888081.51406616]\n",
            "[1835737.76974113]\n",
            "[1784848.06972506]\n",
            "[1735372.02247009]\n",
            "[1687270.35845547]\n",
            "[1640504.89901904]\n",
            "[1595038.52605456]\n",
            "[1550835.1525507]\n",
            "[1507859.69394861]\n",
            "[1466078.04029494]\n",
            "[1425457.02916858]\n",
            "[1385964.41935933]\n",
            "[1347568.86527784]\n",
            "[1310239.89207637]\n",
            "[1273947.87146064]\n",
            "[1238663.99817367]\n",
            "[1204360.26713278]\n",
            "[1171009.45120179]\n",
            "[1138585.07958055]\n",
            "[1107061.41679496]\n",
            "[1076413.44227046]\n",
            "[1046616.83047303]\n",
            "[1017647.93160182]\n",
            "[989483.7528181]\n",
            "[962101.93999573]\n",
            "[935480.75997845]\n",
            "[909599.08333012]\n",
            "[884436.36756415]\n"
          ],
          "name": "stdout"
        },
        {
          "output_type": "display_data",
          "data": {
            "image/png": "[encoded data removed]",
            "text/plain": [
              "<Figure size 432x288 with 1 Axes>"
            ]
          },
          "metadata": {
            "tags": [],
            "needs_background": "light"
          }
        },
        {
          "output_type": "stream",
          "text": [
            "Gia nha cho 50m la:  [580.70974296]\n"
          ],
          "name": "stdout"
        }
      ]
    }
  ]
}